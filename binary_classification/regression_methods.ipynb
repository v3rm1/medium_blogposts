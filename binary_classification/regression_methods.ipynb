{
 "cells": [
  {
   "cell_type": "markdown",
   "metadata": {},
   "source": [
    "# Binary Classification: Regression Techniques"
   ]
  },
  {
   "cell_type": "code",
   "execution_count": 1,
   "metadata": {},
   "outputs": [],
   "source": [
    "import pandas as pd\n",
    "import numpy as np\n",
    "from os import path\n",
    "from sklearn.linear_model import LinearRegression, LogisticRegression\n",
    "from sklearn.model_selection import cross_val_predict, cross_val_score, train_test_split\n",
    "from sklearn import metrics\n",
    "from config import *\n",
    "import matplotlib.pyplot as plt"
   ]
  },
  {
   "cell_type": "code",
   "execution_count": 3,
   "metadata": {},
   "outputs": [],
   "source": [
    "train_df = pd.read_csv(path.join(DATA_DIR, TRAIN_PROC_FILE))\n",
    "test_df = pd.read_csv(path.join(DATA_DIR, TEST_PROC_FILE))\n",
    "\n",
    "\n",
    "op_df = pd.DataFrame(columns=['PassengerId', 'Survived'])\n",
    "op_df['PassengerId'] = test_df['PassengerId']"
   ]
  },
  {
   "cell_type": "code",
   "execution_count": 5,
   "metadata": {},
   "outputs": [],
   "source": [
    "y = train_df['Survived']\n",
    "X = train_df.drop(columns=['Survived'])\n",
    "\n",
    "X_train, X_val, y_train, y_val = train_test_split(X, y, test_size=0.35, random_state=20)"
   ]
  },
  {
   "cell_type": "code",
   "execution_count": 6,
   "metadata": {},
   "outputs": [],
   "source": [
    "def probability_to_class_conversion(val):\n",
    "    if val>0.5:\n",
    "        return 1\n",
    "    else:\n",
    "        return 0"
   ]
  },
  {
   "cell_type": "markdown",
   "metadata": {},
   "source": [
    "-------\n",
    "### Linear Regression\n",
    "\n",
    "Validation: Cross validated scores, Cross Predicted Accuracy\n",
    "\n",
    "Score: Accuracy"
   ]
  },
  {
   "cell_type": "code",
   "execution_count": 7,
   "metadata": {},
   "outputs": [
    {
     "name": "stdout",
     "output_type": "stream",
     "text": [
      "Cross validated scores: [0.3575574  0.40584001 0.36231379 0.3842338  0.37577352]\n",
      "Cross Predicted Accuracy: 0.34573553068343954\n",
      "Confusion Matrix: \n",
      " [[168  29]\n",
      " [ 38  77]]\n"
     ]
    },
    {
     "data": {
      "text/plain": [
       "<matplotlib.collections.PathCollection at 0x1224f7240>"
      ]
     },
     "execution_count": 7,
     "metadata": {},
     "output_type": "execute_result"
    },
    {
     "data": {
      "image/png": "[encoded data removed]",
      "text/plain": [
       "<Figure size 432x288 with 1 Axes>"
      ]
     },
     "metadata": {
      "needs_background": "light"
     },
     "output_type": "display_data"
    }
   ],
   "source": [
    "linear_classifier = LinearRegression()\n",
    "linear_classifier.fit(X_train, y_train)\n",
    "\n",
    "scores = cross_val_score(linear_classifier, X_train, y_train, cv=5)\n",
    "print(\"Cross validated scores:\", scores)\n",
    "\n",
    "pred = cross_val_predict(linear_classifier, X_val, y_val, cv=5)\n",
    "\n",
    "accuracy = metrics.r2_score(y_val, pred)\n",
    "print(\"Cross Predicted Accuracy:\", accuracy)\n",
    "\n",
    "print(\"Confusion Matrix: \\n\", metrics.confusion_matrix(y_val, pd.Series(pred).apply(probability_to_class_conversion), labels=[0, 1]))\n",
    "plt.scatter(y_val, pred)"
   ]
  },
  {
   "cell_type": "code",
   "execution_count": 8,
   "metadata": {},
   "outputs": [],
   "source": [
    "test_pred = linear_classifier.predict(test_df)\n",
    "op_df['Survived'] = pd.Series(test_pred).apply(probability_to_class_conversion)\n",
    "\n",
    "op_df.to_csv(path.join(DATA_DIR, LINEAR_REG_PRED_FILE), index=None)"
   ]
  },
  {
   "cell_type": "code",
   "execution_count": 9,
   "metadata": {},
   "outputs": [
    {
     "data": {
      "text/plain": [
       "0    256\n",
       "1    162\n",
       "Name: Survived, dtype: int64"
      ]
     },
     "execution_count": 9,
     "metadata": {},
     "output_type": "execute_result"
    }
   ],
   "source": [
    "op_df['Survived'].value_counts()"
   ]
  },
  {
   "cell_type": "markdown",
   "metadata": {},
   "source": [
    "### Accuracy: 77.511%"
   ]
  },
  {
   "cell_type": "markdown",
   "metadata": {},
   "source": [
    "-------\n",
    "### Logistic Regression\n",
    "\n",
    "Validation: Cross validated scores, Cross Predicted Accuracy\n",
    "\n",
    "Score: Accuracy"
   ]
  },
  {
   "cell_type": "code",
   "execution_count": 14,
   "metadata": {},
   "outputs": [
    {
     "name": "stdout",
     "output_type": "stream",
     "text": [
      "Cross validated scores: [0.79487179 0.81196581 0.80869565 0.79130435 0.79130435]\n",
      "Cross Predicted Accuracy: 0.008430809975722875\n",
      "Confusion Matrix: \n",
      " [[167  30]\n",
      " [ 42  73]]\n"
     ]
    },
    {
     "data": {
      "image/png": "[encoded data removed]",
      "text/plain": [
       "<Figure size 432x288 with 1 Axes>"
      ]
     },
     "metadata": {
      "needs_background": "light"
     },
     "output_type": "display_data"
    }
   ],
   "source": [
    "log_reg_classifier = LogisticRegression(C=1e2, solver='newton-cg', penalty='l2')\n",
    "log_reg_classifier.fit(X_train, y_train)\n",
    "\n",
    "scores = cross_val_score(log_reg_classifier, X_train, y_train, cv=5)\n",
    "print(\"Cross validated scores:\", scores)\n",
    "\n",
    "pred = cross_val_predict(log_reg_classifier, X_val, y_val, cv=5)\n",
    "\n",
    "accuracy = metrics.r2_score(y_val, pred)\n",
    "print(\"Cross Predicted Accuracy:\", accuracy)\n",
    "\n",
    "print(\"Confusion Matrix: \\n\", metrics.confusion_matrix(y_val, pd.Series(pred).apply(probability_to_class_conversion), labels=[0, 1]))\n",
    "plt.scatter(y_val, pred)\n",
    "\n",
    "\n",
    "test_pred = log_reg_classifier.predict(test_df)\n",
    "op_df['Survived'] = pd.Series(test_pred).apply(probability_to_class_conversion)\n",
    "\n",
    "op_df.to_csv(path.join(DATA_DIR, LOG_REG_PRED_FILE), index=None)"
   ]
  },
  {
   "cell_type": "code",
   "execution_count": 15,
   "metadata": {},
   "outputs": [
    {
     "data": {
      "text/plain": [
       "0    243\n",
       "1    175\n",
       "Name: Survived, dtype: int64"
      ]
     },
     "execution_count": 15,
     "metadata": {},
     "output_type": "execute_result"
    }
   ],
   "source": [
    "op_df['Survived'].value_counts()"
   ]
  },
  {
   "cell_type": "markdown",
   "metadata": {},
   "source": [
    "### Accuracy: 72.727%"
   ]
  },
  {
   "cell_type": "code",
   "execution_count": null,
   "metadata": {},
   "outputs": [],
   "source": []
  }
 ],
 "metadata": {
  "kernelspec": {
   "display_name": "Python 3",
   "language": "python",
   "name": "python3"
  },
  "language_info": {
   "codemirror_mode": {
    "name": "ipython",
    "version": 3
   },
   "file_extension": ".py",
   "mimetype": "text/x-python",
   "name": "python",
   "nbconvert_exporter": "python",
   "pygments_lexer": "ipython3",
   "version": "3.6.8"
  }
 },
 "nbformat": 4,
 "nbformat_minor": 2
}
