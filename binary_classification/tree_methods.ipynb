{
 "cells": [
  {
   "cell_type": "code",
   "execution_count": 1,
   "metadata": {},
   "outputs": [],
   "source": [
    "import pandas as pd\n",
    "import numpy as np\n",
    "from os import path\n",
    "from sklearn.tree import DecisionTreeClassifier, ExtraTreeClassifier\n",
    "from sklearn.ensemble import RandomForestClassifier\n",
    "\n",
    "from sklearn.model_selection import cross_val_predict, cross_val_score, train_test_split\n",
    "from sklearn import metrics\n",
    "from config import *\n",
    "import matplotlib.pyplot as plt"
   ]
  },
  {
   "cell_type": "code",
   "execution_count": 2,
   "metadata": {},
   "outputs": [],
   "source": [
    "train_df = pd.read_csv(path.join(DATA_DIR, TRAIN_PROC_FILE))\n",
    "test_df = pd.read_csv(path.join(DATA_DIR, TEST_PROC_FILE))\n",
    "\n",
    "\n",
    "op_df = pd.DataFrame(columns=['PassengerId', 'Survived'])\n",
    "op_df['PassengerId'] = test_df['PassengerId']"
   ]
  },
  {
   "cell_type": "code",
   "execution_count": 3,
   "metadata": {},
   "outputs": [],
   "source": [
    "y = train_df['Survived']\n",
    "X = train_df.drop(columns=['Survived'])\n",
    "\n",
    "X_train, X_val, y_train, y_val = train_test_split(X, y, test_size=0.35, random_state=20)"
   ]
  },
  {
   "cell_type": "markdown",
   "metadata": {},
   "source": [
    "----\n",
    "#### Decision Tree\n",
    "\n",
    "Validation: Cross validated scores, Cross Predicted Accuracy\n",
    "\n",
    "Score: Accuracy"
   ]
  },
  {
   "cell_type": "code",
   "execution_count": 4,
   "metadata": {},
   "outputs": [
    {
     "name": "stdout",
     "output_type": "stream",
     "text": [
      "Feature importance plot\n",
      "\n"
     ]
    },
    {
     "data": {
      "image/png": "[encoded data removed]",
      "text/plain": [
       "<Figure size 432x288 with 1 Axes>"
      ]
     },
     "metadata": {
      "needs_background": "light"
     },
     "output_type": "display_data"
    },
    {
     "name": "stdout",
     "output_type": "stream",
     "text": [
      "Cross validated scores: [0.77777778 0.72649573 0.74782609 0.73043478 0.76521739]\n",
      "Cross Predicted Accuracy: -0.2807768704480247\n",
      "Confusion Matrix: \n",
      " [[153  44]\n",
      " [ 49  66]]\n"
     ]
    },
    {
     "data": {
      "text/plain": [
       "<matplotlib.collections.PathCollection at 0x10dc22be0>"
      ]
     },
     "execution_count": 4,
     "metadata": {},
     "output_type": "execute_result"
    },
    {
     "data": {
      "image/png": "[encoded data removed]",
      "text/plain": [
       "<Figure size 432x288 with 1 Axes>"
      ]
     },
     "metadata": {
      "needs_background": "light"
     },
     "output_type": "display_data"
    }
   ],
   "source": [
    "dec_tree = DecisionTreeClassifier()\n",
    "dec_tree.fit(X_train, y_train)\n",
    "\n",
    "print(\"Feature importance plot\\n\")\n",
    "feat_importances = pd.Series(dec_tree.feature_importances_, index=X.columns)\n",
    "feat_importances.nlargest(5).plot(kind='barh')\n",
    "plt.title(\"Feature Importance\")\n",
    "plt.show()\n",
    "\n",
    "scores = cross_val_score(dec_tree, X_train, y_train, cv=5)\n",
    "print(\"Cross validated scores:\", scores)\n",
    "\n",
    "pred = cross_val_predict(dec_tree, X_val, y_val, cv=5)\n",
    "\n",
    "accuracy = metrics.r2_score(y_val, pred)\n",
    "print(\"Cross Predicted Accuracy:\", accuracy)\n",
    "\n",
    "print(\"Confusion Matrix: \\n\", metrics.confusion_matrix(y_val, pred, labels=[0, 1]))\n",
    "plt.scatter(y_val, pred)"
   ]
  },
  {
   "cell_type": "code",
   "execution_count": 5,
   "metadata": {},
   "outputs": [],
   "source": [
    "op_df['Survived'] = dec_tree.predict(test_df).astype(int)\n",
    "\n",
    "op_df.to_csv(path.join(DATA_DIR, DEC_TREE_PRED_FILE), index=None)"
   ]
  },
  {
   "cell_type": "markdown",
   "metadata": {},
   "source": [
    "### Accuracy: 67.942%"
   ]
  },
  {
   "cell_type": "markdown",
   "metadata": {},
   "source": [
    "----\n",
    "#### Extra Tree Classifier\n",
    "\n",
    "Validation: Cross validated scores, Cross Predicted Accuracy\n",
    "\n",
    "Score: Accuracy"
   ]
  },
  {
   "cell_type": "code",
   "execution_count": 6,
   "metadata": {},
   "outputs": [
    {
     "name": "stdout",
     "output_type": "stream",
     "text": [
      "Feature importance plot\n",
      "\n"
     ]
    },
    {
     "data": {
      "image/png": "[encoded data removed]",
      "text/plain": [
       "<Figure size 432x288 with 1 Axes>"
      ]
     },
     "metadata": {
      "needs_background": "light"
     },
     "output_type": "display_data"
    },
    {
     "name": "stdout",
     "output_type": "stream",
     "text": [
      "Cross validated scores: [0.75213675 0.8034188  0.82608696 0.8        0.8       ]\n",
      "Cross Predicted Accuracy: 0.11860516442286473\n",
      "Confusion Matrix: \n",
      " [[177  20]\n",
      " [ 44  71]]\n"
     ]
    },
    {
     "data": {
      "text/plain": [
       "<matplotlib.collections.PathCollection at 0x1290cd7f0>"
      ]
     },
     "execution_count": 6,
     "metadata": {},
     "output_type": "execute_result"
    },
    {
     "data": {
      "image/png": "[encoded data removed]",
      "text/plain": [
       "<Figure size 432x288 with 1 Axes>"
      ]
     },
     "metadata": {
      "needs_background": "light"
     },
     "output_type": "display_data"
    }
   ],
   "source": [
    "extra_tree = ExtraTreeClassifier(max_depth=4, max_features=5)\n",
    "extra_tree.fit(X_train, y_train)\n",
    "\n",
    "print(\"Feature importance plot\\n\")\n",
    "feat_importances = pd.Series(extra_tree.feature_importances_, index=X.columns)\n",
    "feat_importances.nlargest(5).plot(kind='barh')\n",
    "plt.title(\"Feature Importance\")\n",
    "plt.show()\n",
    "\n",
    "scores = cross_val_score(extra_tree, X_train, y_train, cv=5)\n",
    "print(\"Cross validated scores:\", scores)\n",
    "\n",
    "pred = cross_val_predict(extra_tree, X_val, y_val, cv=5)\n",
    "\n",
    "accuracy = metrics.r2_score(y_val, pred)\n",
    "print(\"Cross Predicted Accuracy:\", accuracy)\n",
    "\n",
    "print(\"Confusion Matrix: \\n\", metrics.confusion_matrix(y_val, pred, labels=[0, 1]))\n",
    "plt.scatter(y_val, pred)"
   ]
  },
  {
   "cell_type": "code",
   "execution_count": 7,
   "metadata": {},
   "outputs": [],
   "source": [
    "op_df['Survived'] = extra_tree.predict(test_df).astype(int)\n",
    "\n",
    "op_df.to_csv(path.join(DATA_DIR, EXTRA_TREE_PRED_FILE), index=None)"
   ]
  },
  {
   "cell_type": "markdown",
   "metadata": {},
   "source": [
    "### Accuracy: 77.511%"
   ]
  },
  {
   "cell_type": "markdown",
   "metadata": {},
   "source": [
    "----\n",
    "#### Random Forest Classifier\n",
    "\n",
    "Validation: Cross validated scores, Cross Predicted Accuracy\n",
    "\n",
    "Score: Accuracy"
   ]
  },
  {
   "cell_type": "code",
   "execution_count": 9,
   "metadata": {},
   "outputs": [
    {
     "name": "stdout",
     "output_type": "stream",
     "text": [
      "Feature importance plot\n",
      "\n"
     ]
    },
    {
     "data": {
      "image/png": "[encoded data removed]",
      "text/plain": [
       "<Figure size 432x288 with 1 Axes>"
      ]
     },
     "metadata": {
      "needs_background": "light"
     },
     "output_type": "display_data"
    },
    {
     "name": "stdout",
     "output_type": "stream",
     "text": [
      "Cross validated scores: [0.81196581 0.84615385 0.83478261 0.84347826 0.8       ]\n",
      "Cross Predicted Accuracy: 0.04974619289340099\n",
      "Confusion Matrix: \n",
      " [[168  29]\n",
      " [ 40  75]]\n"
     ]
    },
    {
     "data": {
      "text/plain": [
       "<matplotlib.collections.PathCollection at 0x1292d9390>"
      ]
     },
     "execution_count": 9,
     "metadata": {},
     "output_type": "execute_result"
    },
    {
     "data": {
      "image/png": "[encoded data removed]",
      "text/plain": [
       "<Figure size 432x288 with 1 Axes>"
      ]
     },
     "metadata": {
      "needs_background": "light"
     },
     "output_type": "display_data"
    }
   ],
   "source": [
    "rfc = RandomForestClassifier(n_estimators=50)\n",
    "rfc.fit(X_train, y_train)\n",
    "\n",
    "print(\"Feature importance plot\\n\")\n",
    "feat_importances = pd.Series(rfc.feature_importances_, index=X.columns)\n",
    "feat_importances.nlargest(5).plot(kind='barh')\n",
    "plt.title(\"Feature Importance\")\n",
    "plt.show()\n",
    "\n",
    "scores = cross_val_score(rfc, X_train, y_train, cv=5)\n",
    "print(\"Cross validated scores:\", scores)\n",
    "\n",
    "pred = cross_val_predict(rfc, X_val, y_val, cv=5)\n",
    "\n",
    "accuracy = metrics.r2_score(y_val, pred)\n",
    "print(\"Cross Predicted Accuracy:\", accuracy)\n",
    "\n",
    "print(\"Confusion Matrix: \\n\", metrics.confusion_matrix(y_val, pred, labels=[0, 1]))\n",
    "plt.scatter(y_val, pred)"
   ]
  },
  {
   "cell_type": "code",
   "execution_count": 10,
   "metadata": {},
   "outputs": [],
   "source": [
    "op_df['Survived'] = rfc.predict(test_df).astype(int)\n",
    "\n",
    "op_df.to_csv(path.join(DATA_DIR, RF_PRED_FILE), index=None)"
   ]
  },
  {
   "cell_type": "markdown",
   "metadata": {},
   "source": [
    "### Accuracy: 75.598%"
   ]
  },
  {
   "cell_type": "code",
   "execution_count": null,
   "metadata": {},
   "outputs": [],
   "source": []
  }
 ],
 "metadata": {
  "kernelspec": {
   "display_name": "Python 3",
   "language": "python",
   "name": "python3"
  },
  "language_info": {
   "codemirror_mode": {
    "name": "ipython",
    "version": 3
   },
   "file_extension": ".py",
   "mimetype": "text/x-python",
   "name": "python",
   "nbconvert_exporter": "python",
   "pygments_lexer": "ipython3",
   "version": "3.6.8"
  }
 },
 "nbformat": 4,
 "nbformat_minor": 2
}
